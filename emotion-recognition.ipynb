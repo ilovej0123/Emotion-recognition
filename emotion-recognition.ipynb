{
 "cells": [
  {
   "cell_type": "markdown",
   "id": "8e277178-50df-4dd0-b2e9-7e4f1e5b394f",
   "metadata": {},
   "source": [
    "## BrainAI 감정 인식 AI 시스템 만들기\n",
    "\n",
    "### (1) 얼굴 인식 모델(<span style=\"color:blue\">face-detection-adas-0001</span>)에 대해서 [여기](https://docs.openvino.ai/2024/omz_models_model_emotions_recognition_retail_0003.html)에서 알아보기.\n",
    "\n",
    "<img src=\"https://docs.openvino.ai/2022.1/_images/face-detection-adas-0001.png\" style=\"width:400px; float:left;\" />\n",
    "<div style=\"clear:both;\"></div>\n",
    "\n",
    "네트워크(모델)는 모양이 [1, 1, N, 7] 인 blob을 출력합니다. <br>\n",
    "여기서 N은 감지 된 경계 상자의 수입니다. 각 탐지에 대해 설명은 다음과 같은 형식을 갖습니다.<br>\n",
    "<b>[image_id, label, conf, x_min, y_min, x_max, y_max]</b>\n",
    "\n",
    "A very basic introduction to using face detection models with OpenVINO™ \n",
    "\n",
    "The [Model/face-detection-adas-0001](https://github.com/openvinotoolkit/open_model_zoo/blob/master/models/intel/face-detection-adas-0001/README.md) model from [Open Model Zoo](https://github.com/openvinotoolkit/open_model_zoo/) is used. It detects faces in images and returns a blob of data \n",
    "\n",
    "with shape: `1, 1, 200, 7` in the format `1, 1, N, 7`, where `N` is the number of detected\n",
    "bounding boxes. The results are sorted by confidence in decreasing order. Each detection has the format\n",
    "[`image_id`, `label`, `conf`, `x_min`, `y_min`, `x_max`, `y_max`], where:\n",
    "\n",
    "- `image_id` - ID of the image in the batch\n",
    "- `label` - predicted class ID (1 - face)\n",
    "- `conf` - confidence for the predicted class\n",
    "- (`x_min`, `y_min`) - coordinates of the top left bounding box corner\n",
    "- (`x_max`, `y_max`) - coordinates of the bottom right bounding box corner\n",
    "\n",
    "### (2) 감정인식 모델(<span style=\"color:blue\">emotions-recognition-retail-0003)</span> 에 대해서 [여기](https://docs.openvino.ai/2022.1/omz_models_model_face_detection_adas_0001.html) 알아보기\n",
    "<b>Use Case and High-Level Description</b>\n",
    "Fully convolutional network for recognition of five emotions (‘neutral’, ‘happy’, ‘sad’, ‘surprise’, ‘anger’).\n",
    "\n",
    "<b>Validation Dataset</b>\n",
    "For the metrics evaluation, the validation part of the AffectNet dataset is used. A subset with only the images containing five aforementioned emotions is chosen. The total amount of the images used in validation is 2,500.\n",
    "\n",
    "<b>Inputs</b><br>\n",
    "Image, name: `data`, shape: `1, 3, 64, 64` in `1, C, H, W` format, where:\n",
    "\n",
    "- `C` - number of channels\n",
    "- `H` - image height\n",
    "- `W` - image width\n",
    "- Expected color order is `BGR`.\n",
    "\n",
    "<b>Outputs</b><br>\n",
    "Name: `prob_emotion`, shape: `1, 5, 1, 1` - Softmax output across five emotions (0 - ‘neutral’, 1 - ‘happy’, 2 - ‘sad’, 3 - ‘surprise’, 4 - ‘anger’)"
   ]
  },
  {
   "cell_type": "markdown",
   "id": "28f57734-3428-453a-8e80-af45797ed350",
   "metadata": {},
   "source": [
    "## Download Models"
   ]
  },
  {
   "cell_type": "code",
   "execution_count": 4,
   "id": "99f1e19e-59ab-43bd-b811-f8ac48bbf110",
   "metadata": {},
   "outputs": [
    {
     "name": "stdout",
     "output_type": "stream",
     "text": [
      "################|| Downloading face-detection-adas-0001 ||################\n",
      "\n",
      "========== Downloading c:\\BrainAI\\emotion-recognition(2024)\\intel\\face-detection-adas-0001\\FP16\\face-detection-adas-0001.xml\n",
      "... 100%, 304 KB, 78 KB/s, 3 seconds passed\n",
      "\n",
      "========== Downloading c:\\BrainAI\\emotion-recognition(2024)\\intel\\face-detection-adas-0001\\FP16\\face-detection-adas-0001.bin\n",
      "... 49%, 1024 KB, 169 KB/s, 6 seconds passed\n",
      "... 99%, 2048 KB, 277 KB/s, 7 seconds passed\n",
      "... 100%, 2056 KB, 277 KB/s, 7 seconds passed\n",
      "\n"
     ]
    }
   ],
   "source": [
    "!omz_downloader --name face-detection-adas-0001 --precision FP16"
   ]
  },
  {
   "cell_type": "code",
   "execution_count": 5,
   "id": "b26b6d11-24ea-43b1-96f8-7abe540e2009",
   "metadata": {},
   "outputs": [
    {
     "name": "stdout",
     "output_type": "stream",
     "text": [
      "################|| Downloading emotions-recognition-retail-0003 ||################\n",
      "\n",
      "========== Downloading c:\\BrainAI\\emotion-recognition(2024)\\intel\\emotions-recognition-retail-0003\\FP16\\emotions-recognition-retail-0003.xml\n",
      "... 100%, 54 KB, 47 KB/s, 1 seconds passed\n",
      "\n",
      "========== Downloading c:\\BrainAI\\emotion-recognition(2024)\\intel\\emotions-recognition-retail-0003\\FP16\\emotions-recognition-retail-0003.bin\n",
      "... 21%, 1024 KB, 728 KB/s, 1 seconds passed\n",
      "... 42%, 2048 KB, 1236 KB/s, 1 seconds passed\n",
      "... 63%, 3072 KB, 1611 KB/s, 1 seconds passed\n",
      "... 84%, 4096 KB, 1913 KB/s, 2 seconds passed\n",
      "... 100%, 4848 KB, 2096 KB/s, 2 seconds passed\n",
      "\n"
     ]
    }
   ],
   "source": [
    "!omz_downloader --name emotions-recognition-retail-0003 --precision FP16"
   ]
  },
  {
   "cell_type": "markdown",
   "id": "5c790c43-2b16-4124-a742-a1fce49353ae",
   "metadata": {},
   "source": [
    "## 필요한 라이브러리"
   ]
  },
  {
   "cell_type": "code",
   "execution_count": 6,
   "id": "cd25ee8b-31fc-481a-9c75-c9a5d802656b",
   "metadata": {},
   "outputs": [],
   "source": [
    "import openvino as ov\n",
    "import cv2\n",
    "import numpy as np\n",
    "\n",
    "import matplotlib.pyplot as plt\n",
    "from pathlib import Path"
   ]
  },
  {
   "cell_type": "markdown",
   "id": "9d73e7e9-b73f-48a8-be13-369e278de7f2",
   "metadata": {},
   "source": [
    "## Inference 할 장치 확인"
   ]
  },
  {
   "cell_type": "code",
   "execution_count": 8,
   "id": "7ceee394-1d7c-496e-b835-c98382363d80",
   "metadata": {},
   "outputs": [
    {
     "data": {
      "text/plain": [
       "['CPU', 'GPU']"
      ]
     },
     "execution_count": 8,
     "metadata": {},
     "output_type": "execute_result"
    }
   ],
   "source": [
    "core = ov.Core()\n",
    "options = core.available_devices\n",
    "options"
   ]
  },
  {
   "cell_type": "markdown",
   "id": "f49fea96-d66b-4a3d-afae-1482882c70b4",
   "metadata": {},
   "source": [
    "## Load Models"
   ]
  },
  {
   "cell_type": "code",
   "execution_count": 9,
   "id": "4f7b472f-7c28-4273-95ff-306d6695d72c",
   "metadata": {},
   "outputs": [
    {
     "name": "stdout",
     "output_type": "stream",
     "text": [
      "Input layer shape:  [1,3,384,672]\n",
      "Output layer shape: [1,1,200,7]\n"
     ]
    }
   ],
   "source": [
    "model = core.read_model(model='./models/face-detection-adas-0001.xml')\n",
    "face_model = core.compile_model(model=model, device_name=\"CPU\")\n",
    "\n",
    "face_input_layer = face_model.input(0)\n",
    "face_output_layer = face_model.output(0)\n",
    "\n",
    "print(\"Input layer shape: \", face_input_layer.shape)\n",
    "print(\"Output layer shape:\", face_output_layer.shape)"
   ]
  },
  {
   "cell_type": "code",
   "execution_count": 10,
   "id": "2bed0b34-d1c8-4292-9444-eee9e0983e55",
   "metadata": {},
   "outputs": [
    {
     "name": "stdout",
     "output_type": "stream",
     "text": [
      "Input layer shape:  [1,3,64,64]\n",
      "Output layer shape: [1,5,1,1]\n"
     ]
    }
   ],
   "source": [
    "model = core.read_model(model='./models/emotions-recognition-retail-0003.xml')\n",
    "emotion_model = core.compile_model(model=model, device_name=\"CPU\")\n",
    "\n",
    "emotion_input_layer = emotion_model.input(0)\n",
    "emotion_output_layer = emotion_model.output(0)\n",
    "\n",
    "print(\"Input layer shape: \", emotion_input_layer.shape)\n",
    "print(\"Output layer shape:\", emotion_output_layer.shape)"
   ]
  },
  {
   "cell_type": "markdown",
   "id": "8479821a-d8e4-4e17-bf76-d886850393a9",
   "metadata": {},
   "source": [
    "## Load Image"
   ]
  },
  {
   "cell_type": "code",
   "execution_count": 22,
   "id": "2a980f55-75a2-48a1-a05d-2405be2f4b48",
   "metadata": {},
   "outputs": [],
   "source": [
    "frame = cv2.imread(\"images/emotions.jpg\")\n",
    "\n",
    "resized_frame = cv2.resize(src=frame, dsize=(672, 384)) \n",
    "transposed_frame = resized_frame.transpose(2, 0, 1)\n",
    "input_frame = np.expand_dims(transposed_frame, 0)"
   ]
  },
  {
   "cell_type": "markdown",
   "id": "23685d9a-5616-4c44-a1a8-571a50f186a5",
   "metadata": {},
   "source": [
    "## DrawBoundingBoxes"
   ]
  },
  {
   "cell_type": "code",
   "execution_count": 17,
   "id": "653bbb03-f8ee-4d9b-919d-7fd5d9e8c2f5",
   "metadata": {},
   "outputs": [],
   "source": [
    "def DrawBoundingBoxes(output, frame, conf=0.5):\n",
    "    boxes = []\n",
    "    canvas = frame.copy()\n",
    "    h,w,_ = canvas.shape \n",
    "\n",
    "    predictions = output[0][0]            # 하위 집합 데이터 프레임\n",
    "    confidence = predictions[:,2]         # conf 값 가져오기 [image_id, label, conf, x_min, y_min, x_max, y_max]\n",
    "\n",
    "    top_predictions = predictions[(confidence>conf)]         # 임계값보다 큰 conf 값을 가진 예측만 선택\n",
    "\n",
    "    for detection in top_predictions:\n",
    "        box = (detection[3:7] * np.array([w, h, w, h])).astype(\"int\") # 상자 위치 결정\n",
    "        (xmin, ymin, xmax, ymax) = box   # xmin, ymin, xmax, ymax에 상자 위치 값 지정\n",
    "        cv2.rectangle(frame, (xmin, ymin), (xmax, ymax), (0, 0, 255), 2)       # 사각형 그리기\n",
    "        boxes.append(box)     #이미지에 박스를 그린 얼굴의 위치 저장\n",
    "   \n",
    "    return boxes"
   ]
  },
  {
   "cell_type": "markdown",
   "id": "77e9465f-aa4f-4007-8fb3-774e5ebe4634",
   "metadata": {},
   "source": [
    "## DrawText"
   ]
  },
  {
   "cell_type": "code",
   "execution_count": 43,
   "id": "d515e00c-1529-451e-89e3-1d33b4cb99fb",
   "metadata": {},
   "outputs": [],
   "source": [
    "def DrawText(output, frame, face_position):\n",
    "    # emotions 딕셔너리 생성\n",
    "    emotions = {\n",
    "        0:\"neutral\",\n",
    "        1:\"happy\",\n",
    "        2:\"sad\",\n",
    "        3:\"surprise\",\n",
    "        4:\"anger\"\n",
    "    }\n",
    "    # 딕셔너리 출력하기\n",
    "    #for key, value in emotions.items():\n",
    "    #    print(key, value, end='      ')\n",
    "    #print()\n",
    "        \n",
    "    predictions = output[0,:,0,0]              # 5개의 감정 예측값 저장\n",
    "    #print(\"predictions : \" + str(predictions))\n",
    "    \n",
    "    topresult_index = np.argmax(predictions)   # 5개의 감정 예측값 중 가장 높은값의 위치 저장\n",
    "    #print(\"topresult_index : \" + str(topresult_index))\n",
    "    \n",
    "    emotion = emotions[topresult_index]        # emotions에서 topresult_index 값에 해당하는 감정 저장\n",
    "    #print(\"emotion : \" + emotion)\n",
    "    \n",
    "    cv2.putText(frame, emotion,                 # 예측한 감정값 이미지에 출력하기\n",
    "                (face_position[0],face_position[1]),    #xmin, ymin 값을 가져와 위치 설정\n",
    "                cv2.FONT_HERSHEY_SIMPLEX, 1, \n",
    "                (255, 0,0), 2)"
   ]
  },
  {
   "cell_type": "markdown",
   "id": "2d992c03-28d6-4d64-888e-5f2269d909ed",
   "metadata": {},
   "source": [
    "## Emotion Recognition"
   ]
  },
  {
   "cell_type": "code",
   "execution_count": 44,
   "id": "c12852f8-8b1d-4ab4-b0e9-3d2671f7f77c",
   "metadata": {},
   "outputs": [],
   "source": [
    "face_output = face_model([input_frame])[face_output_layer]\n",
    "boxes = DrawBoundingBoxes(face_output, frame, conf=0.5)"
   ]
  },
  {
   "cell_type": "code",
   "execution_count": 45,
   "id": "14b506a5-fecf-443e-a4b3-f5e98d8bc7fe",
   "metadata": {},
   "outputs": [],
   "source": [
    "if boxes is not None:\n",
    "    \n",
    "    for box in boxes:          #boxes에 저장된 얼굴의 위치들을 하나씩 box에 전달\n",
    "    \n",
    "        xmin, ymin, xmax, ymax = box      #box에 저장된 좌표 저장\n",
    "        emotion_input = frame[ymin:ymax,xmin:xmax]         #이미지에서 해당 얼굴 위치를 찾아 저장\n",
    "        \n",
    "        # 감정 인식 모델을 사용하기 위해 이미지 전처리\n",
    "        # Input layer shape:  [1,3,64,64]\n",
    "        resized_image = cv2.resize(src=emotion_input, dsize=(64, 64))      #이미지 사이즈 변경  (64,64,3)\n",
    "        transposed_image = resized_image.transpose(2, 0, 1)                #shape 위치 변경    (3,64,64)\n",
    "        input_image = np.expand_dims(transposed_image, 0)                  #차원 확장 (1,3,64,64)\n",
    "\n",
    "        emotion_output = emotion_model([input_image])[emotion_output_layer]  # 감정 추론\n",
    "        DrawText(emotion_output, frame, box)   # 추론의 결과값 이미지에 출력하기"
   ]
  },
  {
   "cell_type": "code",
   "execution_count": 46,
   "id": "e354c86f-4ba3-4a94-b10a-78dc6c472ceb",
   "metadata": {},
   "outputs": [],
   "source": [
    "cv2.imshow(\"emotion-recognition\", frame)\n",
    "\n",
    "cv2.waitKey(0)\n",
    "cv2.destroyAllWindows()"
   ]
  },
  {
   "cell_type": "markdown",
   "id": "cf4459e6-7508-4bd8-adc4-6f87e110a7ad",
   "metadata": {},
   "source": [
    "## Add Background"
   ]
  },
  {
   "cell_type": "code",
   "execution_count": 47,
   "id": "8c732437-cfb2-46d8-afb2-993d693bdeee",
   "metadata": {},
   "outputs": [],
   "source": [
    "def AddBackground(frame, bg):\n",
    "\n",
    "    frame_h, frame_w = frame.shape[0], frame.shape[1]\n",
    "    new_h = 500\n",
    "    new_w = int((new_h/frame_h)*frame_w)\n",
    "    frame_resize = cv2.resize(frame, (new_w, new_h))\n",
    "\n",
    "    xmax = bg.shape[1] - 350\n",
    "    ymax = bg.shape[0] - 175\n",
    "    xmin = xmax - new_w\n",
    "    ymin = ymax - new_h\n",
    "\n",
    "    bg[ymin:ymax, xmin:xmax] = frame_resize\n",
    "\n",
    "    return bg"
   ]
  },
  {
   "cell_type": "code",
   "execution_count": 48,
   "id": "6ae1060b-dbb5-467b-8eef-3f5d847285f4",
   "metadata": {},
   "outputs": [],
   "source": [
    "background = \"./images/background.jpg\"  #사용할 배경화면 경로\n",
    "bg = cv2.imread(background)\n",
    "deployment = AddBackground(frame, bg)\n",
    "cv2.imshow(\"Deployment\", deployment)\n",
    "\n",
    "cv2.waitKey(0)\n",
    "cv2.destroyAllWindows()"
   ]
  },
  {
   "cell_type": "markdown",
   "id": "fee742e1-7fab-4864-ae2b-64dd296761e6",
   "metadata": {},
   "source": [
    "## webcam"
   ]
  },
  {
   "cell_type": "code",
   "execution_count": 49,
   "id": "8cf7ac36-d7d6-4beb-a5d3-4df18bbde72b",
   "metadata": {},
   "outputs": [],
   "source": [
    "camera = cv2.VideoCapture(0) #create a VideoCapture object with the 'first' camera (your webcam)\n",
    "background = \"./images/background.jpg\"  #사용할 배경화면 경로\n",
    "bg = cv2.imread(background)\n",
    "\n",
    "while(True):\n",
    "    ret, frame = camera.read()             # Capture frame by frame      \n",
    "    if ret == False:\n",
    "        break\n",
    "    \n",
    "    resized_frame = cv2.resize(src=frame, dsize=(672, 384)) \n",
    "    transposed_frame = resized_frame.transpose(2, 0, 1)\n",
    "    input_frame = np.expand_dims(transposed_frame, 0)    \n",
    "    \n",
    "    face_output = face_model([input_frame])[face_output_layer]\n",
    "    \n",
    "    boxes = DrawBoundingBoxes(face_output, frame, conf=0.5)\n",
    "    \n",
    "    if boxes is not None:\n",
    "    \n",
    "        for box in boxes:          #boxes에 저장된 얼굴의 위치들을 하나씩 box에 전달\n",
    "    \n",
    "            xmin, ymin, xmax, ymax = box      #box에 저장된 좌표 저장\n",
    "            emotion_input = frame[ymin:ymax,xmin:xmax]         #이미지에서 해당 얼굴 위치를 찾아 저장\n",
    "        \n",
    "            # 감정 인식 모델을 사용하기 위해 이미지 전처리\n",
    "            # Input layer shape:  [1,3,64,64]\n",
    "            resized_image = cv2.resize(src=emotion_input, dsize=(64, 64))      #이미지 사이즈 변경  (64,64,3)\n",
    "            transposed_image = resized_image.transpose(2, 0, 1)                #shape 위치 변경    (3,64,64)\n",
    "            input_image = np.expand_dims(transposed_image, 0)                  #차원 확장 (1,3,64,64)\n",
    "\n",
    "            emotion_output = emotion_model([input_image])[emotion_output_layer]  # 감정 추론\n",
    "            DrawText(emotion_output, frame, box)   # 추론의 결과값 이미지에 출력하기\n",
    "    \n",
    "    deployment = AddBackground(frame, bg)\n",
    "    \n",
    "    cv2.imshow('Press Spacebar to Exit', deployment)\n",
    "\n",
    "    if cv2.waitKey(1) & 0xFF == ord(' '):  # Stop if spacebar is detected\n",
    "        break\n",
    "\n",
    "camera.release()                           # Cleanup after spacebar is detected.\n",
    "cv2.destroyAllWindows()"
   ]
  },
  {
   "cell_type": "code",
   "execution_count": null,
   "id": "7743ac38-a274-4293-9b00-ae6c134d1d24",
   "metadata": {},
   "outputs": [],
   "source": []
  }
 ],
 "metadata": {
  "kernelspec": {
   "display_name": "Python 3 (ipykernel)",
   "language": "python",
   "name": "python3"
  },
  "language_info": {
   "codemirror_mode": {
    "name": "ipython",
    "version": 3
   },
   "file_extension": ".py",
   "mimetype": "text/x-python",
   "name": "python",
   "nbconvert_exporter": "python",
   "pygments_lexer": "ipython3",
   "version": "3.11.8"
  }
 },
 "nbformat": 4,
 "nbformat_minor": 5
}
